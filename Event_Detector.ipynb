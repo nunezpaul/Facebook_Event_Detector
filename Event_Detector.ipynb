{
 "cells": [
  {
   "cell_type": "code",
   "execution_count": 116,
   "metadata": {
    "collapsed": true
   },
   "outputs": [],
   "source": [
    "import pickle\n",
    "import numpy as np\n",
    "import pandas as pd"
   ]
  },
  {
   "cell_type": "code",
   "execution_count": 117,
   "metadata": {},
   "outputs": [],
   "source": [
    "BOFevent = np.array( pickle.load(open('labeled_Data/labelsBOF.p', 'rb')) ).astype(int)\n",
    "BOFCarpool=np.array( pickle.load(open('labeled_Data/labelsBOFCarpool.p','rb')) ).astype(int)"
   ]
  },
  {
   "cell_type": "markdown",
   "metadata": {},
   "source": [
    "Converting all the True/Falses into 1's and 0's. From here we will multiply the carpool event by 2 in order to change it's label and add the two together to have 1 array that's to be one-hot encoded later."
   ]
  },
  {
   "cell_type": "code",
   "execution_count": 118,
   "metadata": {},
   "outputs": [],
   "source": [
    "Y = BOFCarpool*2+BOFevent\n",
    "Y_one_hot = np.zeros((len(Y), len(set(Y))))"
   ]
  },
  {
   "cell_type": "code",
   "execution_count": 124,
   "metadata": {},
   "outputs": [],
   "source": [
    "for index, y in enumerate(Y):\n",
    "    Y_one_hot[index, y] = 1"
   ]
  },
  {
   "cell_type": "code",
   "execution_count": 127,
   "metadata": {},
   "outputs": [
    {
     "name": "stdout",
     "output_type": "stream",
     "text": [
      "[[1. 0. 0.]\n",
      " [0. 1. 0.]\n",
      " [0. 0. 1.]\n",
      " ...\n",
      " [1. 0. 0.]\n",
      " [0. 1. 0.]\n",
      " [0. 1. 0.]] \n",
      "\n",
      "[0 1 2 ... 0 1 1]\n"
     ]
    }
   ],
   "source": [
    "print(Y_one_hot, '\\n')\n",
    "print(Y)"
   ]
  },
  {
   "cell_type": "markdown",
   "metadata": {},
   "source": [
    "Next we'll take the events that the Y's are associated with and convert them to a bag of words model. We'll use this model because the order is not necessary."
   ]
  },
  {
   "cell_type": "code",
   "execution_count": 63,
   "metadata": {},
   "outputs": [],
   "source": [
    "events=np.array(pd.read_pickle( 'labeled_Data/cleanedEvents.p'))"
   ]
  },
  {
   "cell_type": "code",
   "execution_count": 130,
   "metadata": {
    "collapsed": true
   },
   "outputs": [],
   "source": [
    "dictionary = {'UNK':0}"
   ]
  },
  {
   "cell_type": "code",
   "execution_count": 131,
   "metadata": {},
   "outputs": [
    {
     "data": {
      "text/plain": [
       "['Three', \"King's\", 'Day', 'Party']"
      ]
     },
     "execution_count": 131,
     "metadata": {},
     "output_type": "execute_result"
    }
   ],
   "source": [
    "events[0].split()"
   ]
  },
  {
   "cell_type": "code",
   "execution_count": 132,
   "metadata": {
    "collapsed": true
   },
   "outputs": [],
   "source": [
    "counter = 1\n",
    "for event in events:\n",
    "    for word in event.lower().split():\n",
    "        if word not in dictionary:\n",
    "            dictionary[word] = counter\n",
    "            counter+=1"
   ]
  },
  {
   "cell_type": "code",
   "execution_count": 133,
   "metadata": {},
   "outputs": [
    {
     "data": {
      "text/plain": [
       "1855"
      ]
     },
     "execution_count": 133,
     "metadata": {},
     "output_type": "execute_result"
    }
   ],
   "source": [
    "len(dictionary) #number of tokens in our dictionary"
   ]
  },
  {
   "cell_type": "code",
   "execution_count": 134,
   "metadata": {},
   "outputs": [
    {
     "data": {
      "text/plain": [
       "1163"
      ]
     },
     "execution_count": 134,
     "metadata": {},
     "output_type": "execute_result"
    }
   ],
   "source": [
    "len(events) #number of data points we have"
   ]
  },
  {
   "cell_type": "code",
   "execution_count": 135,
   "metadata": {},
   "outputs": [],
   "source": [
    "bag_of_words = np.zeros((len(events), len(dictionary))).astype(int)"
   ]
  },
  {
   "cell_type": "code",
   "execution_count": 136,
   "metadata": {},
   "outputs": [],
   "source": [
    "for index, event in enumerate(events):\n",
    "    for word in event.lower().split():\n",
    "        word_index = dictionary[word]\n",
    "        bag_of_words[index, word_index] +=1"
   ]
  },
  {
   "cell_type": "markdown",
   "metadata": {},
   "source": [
    "We now have our bag of words. We can construct a simple neural network to determine whether an event is irrelevant, BOF or BOFCarpool."
   ]
  },
  {
   "cell_type": "code",
   "execution_count": 137,
   "metadata": {},
   "outputs": [],
   "source": [
    "import tensorflow as tf\n",
    "import keras \n",
    "from keras.models import Sequential\n",
    "from keras.layers.core import Dense, Activation, Dropout\n",
    "from sklearn.model_selection import train_test_split"
   ]
  },
  {
   "cell_type": "code",
   "execution_count": 138,
   "metadata": {},
   "outputs": [],
   "source": [
    "X_train, X_test, Y_train, Y_test = train_test_split(bag_of_words, Y_one_hot, test_size = 0.1)"
   ]
  },
  {
   "cell_type": "code",
   "execution_count": 197,
   "metadata": {},
   "outputs": [],
   "source": [
    "model = Sequential()\n",
    "model.add(Dense(500, input_shape = (len(dictionary), ) ))\n",
    "model.add(Activation('relu'))\n",
    "model.add(Dropout(0.8))\n",
    "model.add(Dense(500))\n",
    "model.add(Activation('relu'))\n",
    "model.add(Dropout(0.8))\n",
    "model.add(Dense(Y_one_hot.shape[1]))\n",
    "model.add(Activation('softmax'))\n",
    "\n",
    "model.compile(loss = 'categorical_crossentropy', optimizer = 'Adam', metrics = ['accuracy'])"
   ]
  },
  {
   "cell_type": "code",
   "execution_count": 198,
   "metadata": {},
   "outputs": [
    {
     "name": "stdout",
     "output_type": "stream",
     "text": [
      "_________________________________________________________________\n",
      "Layer (type)                 Output Shape              Param #   \n",
      "=================================================================\n",
      "dense_38 (Dense)             (None, 500)               928000    \n",
      "_________________________________________________________________\n",
      "activation_37 (Activation)   (None, 500)               0         \n",
      "_________________________________________________________________\n",
      "dropout_19 (Dropout)         (None, 500)               0         \n",
      "_________________________________________________________________\n",
      "dense_39 (Dense)             (None, 500)               250500    \n",
      "_________________________________________________________________\n",
      "activation_38 (Activation)   (None, 500)               0         \n",
      "_________________________________________________________________\n",
      "dropout_20 (Dropout)         (None, 500)               0         \n",
      "_________________________________________________________________\n",
      "dense_40 (Dense)             (None, 3)                 1503      \n",
      "_________________________________________________________________\n",
      "activation_39 (Activation)   (None, 3)                 0         \n",
      "=================================================================\n",
      "Total params: 1,180,003\n",
      "Trainable params: 1,180,003\n",
      "Non-trainable params: 0\n",
      "_________________________________________________________________\n"
     ]
    }
   ],
   "source": [
    "model.summary()"
   ]
  },
  {
   "cell_type": "code",
   "execution_count": 199,
   "metadata": {},
   "outputs": [
    {
     "name": "stdout",
     "output_type": "stream",
     "text": [
      "Epoch 1/10\n",
      "1046/1046 [==============================] - 2s 2ms/step - loss: 0.5001 - acc: 0.8719\n",
      "Epoch 2/10\n",
      "1046/1046 [==============================] - 1s 792us/step - loss: 0.2459 - acc: 0.9207\n",
      "Epoch 3/10\n",
      "1046/1046 [==============================] - 1s 747us/step - loss: 0.1610 - acc: 0.9207\n",
      "Epoch 4/10\n",
      "1046/1046 [==============================] - 1s 754us/step - loss: 0.1258 - acc: 0.9293\n",
      "Epoch 5/10\n",
      "1046/1046 [==============================] - 1s 757us/step - loss: 0.0916 - acc: 0.9618\n",
      "Epoch 6/10\n",
      "1046/1046 [==============================] - 1s 761us/step - loss: 0.0646 - acc: 0.9857\n",
      "Epoch 7/10\n",
      "1046/1046 [==============================] - 1s 961us/step - loss: 0.0424 - acc: 0.9933\n",
      "Epoch 8/10\n",
      "1046/1046 [==============================] - 1s 843us/step - loss: 0.0293 - acc: 0.9933\n",
      "Epoch 9/10\n",
      "1046/1046 [==============================] - 1s 803us/step - loss: 0.0264 - acc: 0.9924\n",
      "Epoch 10/10\n",
      "1046/1046 [==============================] - 1s 954us/step - loss: 0.0222 - acc: 0.9952\n"
     ]
    }
   ],
   "source": [
    "fit = model.fit(X_train, Y_train, batch_size=32, epochs=10, verbose=1)"
   ]
  },
  {
   "cell_type": "code",
   "execution_count": 200,
   "metadata": {},
   "outputs": [
    {
     "name": "stdout",
     "output_type": "stream",
     "text": [
      "Test score: 0.04167985597736815\n",
      "Test accuracy: 0.9914529919624329\n"
     ]
    }
   ],
   "source": [
    "score = model.evaluate(X_test, Y_test, verbose=0)\n",
    "print('Test score:', score[0])\n",
    "print('Test accuracy:', score[1])"
   ]
  },
  {
   "cell_type": "markdown",
   "metadata": {},
   "source": [
    "For a quick neural network, the best I was able to get was 99.1%. Not perfect but pretty close!"
   ]
  }
 ],
 "metadata": {
  "kernelspec": {
   "display_name": "Python [cs155]",
   "language": "python",
   "name": "Python [cs155]"
  },
  "language_info": {
   "codemirror_mode": {
    "name": "ipython",
    "version": 3
   },
   "file_extension": ".py",
   "mimetype": "text/x-python",
   "name": "python",
   "nbconvert_exporter": "python",
   "pygments_lexer": "ipython3",
   "version": "3.6.4"
  }
 },
 "nbformat": 4,
 "nbformat_minor": 1
}
