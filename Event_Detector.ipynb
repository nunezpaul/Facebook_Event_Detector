{
 "cells": [
  {
   "cell_type": "code",
   "execution_count": 116,
   "metadata": {
    "collapsed": true
   },
   "outputs": [],
   "source": [
    "import pickle\n",
    "import numpy as np\n",
    "import pandas as pd"
   ]
  },
  {
   "cell_type": "code",
   "execution_count": 117,
   "metadata": {},
   "outputs": [],
   "source": [
    "BOFevent = np.array( pickle.load(open('labeled_Data/labelsBOF.p', 'rb')) ).astype(int)\n",
    "BOFCarpool=np.array( pickle.load(open('labeled_Data/labelsBOFCarpool.p','rb')) ).astype(int)"
   ]
  },
  {
   "cell_type": "markdown",
   "metadata": {},
   "source": [
    "Converting all the True/Falses into 1's and 0's. From here we will multiply the carpool event by 2 in order to change it's label and add the two together to have 1 array that's to be one-hot encoded later."
   ]
  },
  {
   "cell_type": "code",
   "execution_count": 118,
   "metadata": {},
   "outputs": [],
   "source": [
    "Y = BOFCarpool*2+BOFevent\n",
    "Y_one_hot = np.zeros((len(Y), len(set(Y))))"
   ]
  },
  {
   "cell_type": "code",
   "execution_count": 124,
   "metadata": {},
   "outputs": [],
   "source": [
    "for index, y in enumerate(Y):\n",
    "    Y_one_hot[index, y] = 1"
   ]
  },
  {
   "cell_type": "code",
   "execution_count": 127,
   "metadata": {},
   "outputs": [
    {
     "name": "stdout",
     "output_type": "stream",
     "text": [
      "[[1. 0. 0.]\n",
      " [0. 1. 0.]\n",
      " [0. 0. 1.]\n",
      " ...\n",
      " [1. 0. 0.]\n",
      " [0. 1. 0.]\n",
      " [0. 1. 0.]] \n",
      "\n",
      "[0 1 2 ... 0 1 1]\n"
     ]
    }
   ],
   "source": [
    "print(Y_one_hot, '\\n')\n",
    "print(Y)"
   ]
  },
  {
   "cell_type": "markdown",
   "metadata": {},
   "source": [
    "Next we'll take the events that the Y's are associated with and convert them to a bag of words model. We'll use this model because the order is not necessary."
   ]
  },
  {
   "cell_type": "code",
   "execution_count": 63,
   "metadata": {},
   "outputs": [],
   "source": [
    "events=np.array(pd.read_pickle( 'labeled_Data/cleanedEvents.p'))"
   ]
  },
  {
   "cell_type": "code",
   "execution_count": 130,
   "metadata": {
    "collapsed": true
   },
   "outputs": [],
   "source": [
    "dictionary = {'UNK':0}"
   ]
  },
  {
   "cell_type": "code",
   "execution_count": 131,
   "metadata": {},
   "outputs": [
    {
     "data": {
      "text/plain": [
       "['Three', \"King's\", 'Day', 'Party']"
      ]
     },
     "execution_count": 131,
     "metadata": {},
     "output_type": "execute_result"
    }
   ],
   "source": [
    "events[0].split()"
   ]
  },
  {
   "cell_type": "code",
   "execution_count": 132,
   "metadata": {
    "collapsed": true
   },
   "outputs": [],
   "source": [
    "counter = 1\n",
    "for event in events:\n",
    "    for word in event.lower().split():\n",
    "        if word not in dictionary:\n",
    "            dictionary[word] = counter\n",
    "            counter+=1"
   ]
  },
  {
   "cell_type": "code",
   "execution_count": 133,
   "metadata": {},
   "outputs": [
    {
     "data": {
      "text/plain": [
       "1855"
      ]
     },
     "execution_count": 133,
     "metadata": {},
     "output_type": "execute_result"
    }
   ],
   "source": [
    "len(dictionary) #number of tokens in our dictionary"
   ]
  },
  {
   "cell_type": "code",
   "execution_count": 134,
   "metadata": {},
   "outputs": [
    {
     "data": {
      "text/plain": [
       "1163"
      ]
     },
     "execution_count": 134,
     "metadata": {},
     "output_type": "execute_result"
    }
   ],
   "source": [
    "len(events) #number of data points we have"
   ]
  },
  {
   "cell_type": "code",
   "execution_count": 135,
   "metadata": {},
   "outputs": [],
   "source": [
    "bag_of_words = np.zeros((len(events), len(dictionary))).astype(int)"
   ]
  },
  {
   "cell_type": "code",
   "execution_count": 136,
   "metadata": {},
   "outputs": [],
   "source": [
    "for index, event in enumerate(events):\n",
    "    for word in event.lower().split():\n",
    "        word_index = dictionary[word]\n",
    "        bag_of_words[index, word_index] +=1"
   ]
  },
  {
   "cell_type": "markdown",
   "metadata": {},
   "source": [
    "We now have our bag of words. We can construct a simple neural network to determine whether an event is irrelevant, BOF or BOFCarpool."
   ]
  },
  {
   "cell_type": "code",
   "execution_count": 137,
   "metadata": {},
   "outputs": [],
   "source": [
    "import tensorflow as tf\n",
    "import keras \n",
    "from keras.models import Sequential\n",
    "from keras.layers.core import Dense, Activation, Dropout\n",
    "from sklearn.model_selection import train_test_split"
   ]
  },
  {
   "cell_type": "code",
   "execution_count": null,
   "metadata": {
    "collapsed": true
   },
   "outputs": [],
   "source": [
    "X_train, X_test, Y_train, Y_test = train_test_split(bag_of_words, Y_one_hot, test_size = 0.1)"
   ]
  },
  {
   "cell_type": "code",
   "execution_count": 214,
   "metadata": {},
   "outputs": [
    {
     "name": "stdout",
     "output_type": "stream",
     "text": [
      "_________________________________________________________________\n",
      "Layer (type)                 Output Shape              Param #   \n",
      "=================================================================\n",
      "dense_53 (Dense)             (None, 500)               928000    \n",
      "_________________________________________________________________\n",
      "activation_52 (Activation)   (None, 500)               0         \n",
      "_________________________________________________________________\n",
      "dropout_29 (Dropout)         (None, 500)               0         \n",
      "_________________________________________________________________\n",
      "dense_54 (Dense)             (None, 500)               250500    \n",
      "_________________________________________________________________\n",
      "activation_53 (Activation)   (None, 500)               0         \n",
      "_________________________________________________________________\n",
      "dropout_30 (Dropout)         (None, 500)               0         \n",
      "_________________________________________________________________\n",
      "dense_55 (Dense)             (None, 3)                 1503      \n",
      "_________________________________________________________________\n",
      "activation_54 (Activation)   (None, 3)                 0         \n",
      "=================================================================\n",
      "Total params: 1,180,003\n",
      "Trainable params: 1,180,003\n",
      "Non-trainable params: 0\n",
      "_________________________________________________________________\n"
     ]
    }
   ],
   "source": [
    "model = Sequential()\n",
    "model.add(Dense(500, input_shape = (len(dictionary), ) ))\n",
    "model.add(Activation('relu'))\n",
    "model.add(Dropout(0.8))\n",
    "model.add(Dense(500))\n",
    "model.add(Activation('relu'))\n",
    "model.add(Dropout(0.8))\n",
    "model.add(Dense(Y_one_hot.shape[1]))\n",
    "model.add(Activation('softmax'))\n",
    "\n",
    "model.compile(loss = 'categorical_crossentropy', optimizer = 'Adam', metrics = ['accuracy'])\n",
    "model.summary()"
   ]
  },
  {
   "cell_type": "code",
   "execution_count": 215,
   "metadata": {},
   "outputs": [
    {
     "name": "stdout",
     "output_type": "stream",
     "text": [
      "Epoch 1/10\n",
      "1046/1046 [==============================] - 2s 2ms/step - loss: 0.5157 - acc: 0.8815\n",
      "Epoch 2/10\n",
      "1046/1046 [==============================] - 1s 972us/step - loss: 0.2480 - acc: 0.9207\n",
      "Epoch 3/10\n",
      "1046/1046 [==============================] - 1s 880us/step - loss: 0.1592 - acc: 0.9197\n",
      "Epoch 4/10\n",
      "1046/1046 [==============================] - 1s 784us/step - loss: 0.1121 - acc: 0.9340\n",
      "Epoch 5/10\n",
      "1046/1046 [==============================] - 1s 1ms/step - loss: 0.0846 - acc: 0.9646\n",
      "Epoch 6/10\n",
      "1046/1046 [==============================] - 1s 826us/step - loss: 0.0535 - acc: 0.9847\n",
      "Epoch 7/10\n",
      "1046/1046 [==============================] - 1s 760us/step - loss: 0.0338 - acc: 0.9895\n",
      "Epoch 8/10\n",
      "1046/1046 [==============================] - 1s 1ms/step - loss: 0.0278 - acc: 0.9933\n",
      "Epoch 9/10\n",
      "1046/1046 [==============================] - 1s 996us/step - loss: 0.0189 - acc: 0.9971\n",
      "Epoch 10/10\n",
      "1046/1046 [==============================] - 1s 1ms/step - loss: 0.0157 - acc: 0.9981\n",
      "Test score: 0.04121581191181117\n",
      "Test accuracy: 0.9914529919624329\n"
     ]
    }
   ],
   "source": [
    "fit = model.fit(X_train, Y_train, batch_size=32, epochs=10, verbose=1)\n",
    "\n",
    "score = model.evaluate(X_test, Y_test, verbose=0)\n",
    "print('Test score:', score[0])\n",
    "print('Test accuracy:', score[1])"
   ]
  },
  {
   "cell_type": "markdown",
   "metadata": {},
   "source": [
    "For a quick neural network, the best I was able to get was 99.1% in 10 epochs. Not perfect but pretty close! Next to boost the performance, we can go to term frequency-inverse document frequency (TF-IDF). Words that are use a lot don't have as strong a significance as words that rarely appear."
   ]
  },
  {
   "cell_type": "code",
   "execution_count": 201,
   "metadata": {
    "collapsed": true
   },
   "outputs": [],
   "source": [
    "from sklearn.feature_extraction.text import TfidfVectorizer,TfidfTransformer\n",
    "\n",
    "def tfidf(data):\n",
    "    \n",
    "    tfidf_transformer = TfidfTransformer()\n",
    "    data_tfidf = tfidf_transformer.fit_transform(data)\n",
    "\n",
    "    return data_tfidf, tfidf_transformer"
   ]
  },
  {
   "cell_type": "code",
   "execution_count": 202,
   "metadata": {
    "collapsed": true
   },
   "outputs": [],
   "source": [
    "X_train_tfidf, tfidf_vectorizer = tfidf(X_train)\n",
    "X_test_tfidf = tfidf_vectorizer.transform(X_test)"
   ]
  },
  {
   "cell_type": "code",
   "execution_count": 237,
   "metadata": {},
   "outputs": [
    {
     "name": "stdout",
     "output_type": "stream",
     "text": [
      "_________________________________________________________________\n",
      "Layer (type)                 Output Shape              Param #   \n",
      "=================================================================\n",
      "dense_83 (Dense)             (None, 500)               928000    \n",
      "_________________________________________________________________\n",
      "activation_82 (Activation)   (None, 500)               0         \n",
      "_________________________________________________________________\n",
      "dropout_49 (Dropout)         (None, 500)               0         \n",
      "_________________________________________________________________\n",
      "dense_84 (Dense)             (None, 500)               250500    \n",
      "_________________________________________________________________\n",
      "activation_83 (Activation)   (None, 500)               0         \n",
      "_________________________________________________________________\n",
      "dropout_50 (Dropout)         (None, 500)               0         \n",
      "_________________________________________________________________\n",
      "dense_85 (Dense)             (None, 3)                 1503      \n",
      "_________________________________________________________________\n",
      "activation_84 (Activation)   (None, 3)                 0         \n",
      "=================================================================\n",
      "Total params: 1,180,003\n",
      "Trainable params: 1,180,003\n",
      "Non-trainable params: 0\n",
      "_________________________________________________________________\n"
     ]
    }
   ],
   "source": [
    "model = Sequential()\n",
    "model.add(Dense(500, input_shape = (len(dictionary), ) ))\n",
    "model.add(Activation('relu'))\n",
    "model.add(Dropout(0.75))\n",
    "model.add(Dense(500))\n",
    "model.add(Activation('relu'))\n",
    "model.add(Dropout(0.75))\n",
    "model.add(Dense(Y_one_hot.shape[1]))\n",
    "model.add(Activation('softmax'))\n",
    "\n",
    "model.compile(loss = 'categorical_crossentropy', optimizer = 'Adam', metrics = ['accuracy'])\n",
    "model.summary()"
   ]
  },
  {
   "cell_type": "code",
   "execution_count": 238,
   "metadata": {},
   "outputs": [
    {
     "name": "stdout",
     "output_type": "stream",
     "text": [
      "Epoch 1/10\n",
      "1046/1046 [==============================] - 2s 2ms/step - loss: 0.5260 - acc: 0.8948\n",
      "Epoch 2/10\n",
      "1046/1046 [==============================] - 1s 806us/step - loss: 0.2157 - acc: 0.9207\n",
      "Epoch 3/10\n",
      "1046/1046 [==============================] - 1s 837us/step - loss: 0.1472 - acc: 0.9207\n",
      "Epoch 4/10\n",
      "1046/1046 [==============================] - 1s 912us/step - loss: 0.1195 - acc: 0.9207\n",
      "Epoch 5/10\n",
      "1046/1046 [==============================] - 1s 1ms/step - loss: 0.1028 - acc: 0.9245\n",
      "Epoch 6/10\n",
      "1046/1046 [==============================] - 1s 843us/step - loss: 0.0930 - acc: 0.9474\n",
      "Epoch 7/10\n",
      "1046/1046 [==============================] - 1s 810us/step - loss: 0.0802 - acc: 0.9704\n",
      "Epoch 8/10\n",
      "1046/1046 [==============================] - 1s 828us/step - loss: 0.0600 - acc: 0.9904\n",
      "Epoch 9/10\n",
      "1046/1046 [==============================] - 1s 922us/step - loss: 0.0397 - acc: 0.9962\n",
      "Epoch 10/10\n",
      "1046/1046 [==============================] - 1s 904us/step - loss: 0.0266 - acc: 0.9943\n",
      "Test score: 0.051234409467786804\n",
      "Test accuracy: 0.9829059839248657\n"
     ]
    }
   ],
   "source": [
    "fit = model.fit(X_train_tfidf, Y_train, batch_size=32, epochs=10, verbose=1)\n",
    "\n",
    "score = model.evaluate(X_test_tfidf, Y_test, verbose=0)\n",
    "print('Test score:', score[0])\n",
    "print('Test accuracy:', score[1])"
   ]
  },
  {
   "cell_type": "markdown",
   "metadata": {},
   "source": [
    "Moving to TF-IDF space, we seem to max out accuracy at 98.3%."
   ]
  }
 ],
 "metadata": {
  "kernelspec": {
   "display_name": "Python [cs155]",
   "language": "python",
   "name": "Python [cs155]"
  },
  "language_info": {
   "codemirror_mode": {
    "name": "ipython",
    "version": 3
   },
   "file_extension": ".py",
   "mimetype": "text/x-python",
   "name": "python",
   "nbconvert_exporter": "python",
   "pygments_lexer": "ipython3",
   "version": "3.6.4"
  }
 },
 "nbformat": 4,
 "nbformat_minor": 1
}
